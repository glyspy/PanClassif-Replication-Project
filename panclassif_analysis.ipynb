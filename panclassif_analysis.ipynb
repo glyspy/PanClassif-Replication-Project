{
 "cells": [
  {
   "cell_type": "markdown",
   "metadata": {},
   "source": [
    "# Final Project: PanClassif"
   ]
  },
  {
   "cell_type": "markdown",
   "metadata": {},
   "source": [
    "Import libraries"
   ]
  },
  {
   "cell_type": "code",
   "execution_count": 1,
   "metadata": {},
   "outputs": [],
   "source": [
    "# import panclassif as pc\n",
    "import pandas as pd\n",
    "import numpy as np\n",
    "from panclassif import dataProcess, featSelect, upsampled, binary_merge, multi_merge, classification\n",
    "from sklearn.ensemble import RandomForestClassifier"
   ]
  },
  {
   "cell_type": "markdown",
   "metadata": {},
   "source": [
    "### Feature Selection"
   ]
  },
  {
   "cell_type": "code",
   "execution_count": 2,
   "metadata": {},
   "outputs": [],
   "source": [
    "homepath_rare = './rare_data'\n",
    "cancerpath_rare = './rare_data/cancer'\n",
    "normalpath_rare = './rare_data/normal'"
   ]
  },
  {
   "cell_type": "code",
   "execution_count": 3,
   "metadata": {},
   "outputs": [
    {
     "name": "stdout",
     "output_type": "stream",
     "text": [
      "Cancer files: ['SARC.csv.gz', 'PCPG.csv.gz', 'THYM.csv.gz', 'KICH.csv.gz', 'CHOL.csv.gz']\n",
      "Normal files: ['PCPG.norm.csv.gz', 'THYM.norm.csv.gz', 'CHOL.norm.csv.gz', 'KICH.norm.csv.gz', 'SARC.norm.csv.gz']\n",
      "Feature selection process is running...\n",
      "Processing file index: 0\n",
      "Doing feature selection for CHOL\n",
      "Processing file index: 1\n",
      "Doing feature selection for KICH\n",
      "Processing file index: 2\n",
      "Doing feature selection for PCPG\n",
      "Processing file index: 3\n",
      "Doing feature selection for SARC\n",
      "Processing file index: 4\n",
      "Doing feature selection for THYM\n",
      "Feature selection process has ended\n",
      "\n"
     ]
    }
   ],
   "source": [
    "names_rare = featSelect(homepath_rare,cancerpath_rare,normalpath_rare, k=5)"
   ]
  },
  {
   "cell_type": "code",
   "execution_count": 4,
   "metadata": {},
   "outputs": [
    {
     "data": {
      "text/plain": [
       "['CHOL', 'KICH', 'PCPG', 'SARC', 'THYM']"
      ]
     },
     "execution_count": 4,
     "metadata": {},
     "output_type": "execute_result"
    }
   ],
   "source": [
    "names_rare"
   ]
  },
  {
   "cell_type": "code",
   "execution_count": 5,
   "metadata": {},
   "outputs": [],
   "source": [
    "# homepath_common = './common_data/'\n",
    "# cancerpath_common = './common_data/cancer'\n",
    "# normalpath_common = './common_data/normal'"
   ]
  },
  {
   "cell_type": "code",
   "execution_count": 6,
   "metadata": {},
   "outputs": [],
   "source": [
    "# names_common = featSelect(homepath_common,cancerpath_common,normalpath_common, k=5)"
   ]
  },
  {
   "cell_type": "code",
   "execution_count": 7,
   "metadata": {},
   "outputs": [],
   "source": [
    "# names_common"
   ]
  },
  {
   "cell_type": "markdown",
   "metadata": {},
   "source": [
    "### Data Process"
   ]
  },
  {
   "cell_type": "code",
   "execution_count": 8,
   "metadata": {},
   "outputs": [],
   "source": [
    "smoothed_cancer_rare = './rare_data/cancer_smoothed'\n",
    "smoothed_normal_rare = './rare_data/normal_smoothed'"
   ]
  },
  {
   "cell_type": "code",
   "execution_count": 9,
   "metadata": {},
   "outputs": [
    {
     "name": "stdout",
     "output_type": "stream",
     "text": [
      "Data process is running\n",
      "Unique genes: 25\n",
      "CHOL\n",
      "(45, 25)\n",
      "(9, 25)\n",
      "KICH\n",
      "(91, 25)\n",
      "(25, 25)\n",
      "PCPG\n",
      "(187, 25)\n",
      "(3, 25)\n",
      "SARC\n",
      "(265, 25)\n",
      "(2, 25)\n",
      "THYM\n",
      "(122, 25)\n",
      "(2, 25)\n",
      "Data process has ended\n",
      "\n"
     ]
    }
   ],
   "source": [
    "dataProcess(homepath=homepath_rare,\n",
    "            names=names_rare,\n",
    "            cancerpath=cancerpath_rare,\n",
    "            smoothed_cancer=smoothed_cancer_rare,\n",
    "            smoothed_normal=smoothed_normal_rare,\n",
    "            scale_mode=0,\n",
    "            cancer='CHOL')"
   ]
  },
  {
   "cell_type": "code",
   "execution_count": 10,
   "metadata": {},
   "outputs": [],
   "source": [
    "# smoothed_cancer_common = './common_data/cancer_smoothed'\n",
    "# smoothed_normal_common = './common_data/normal_smoothed'"
   ]
  },
  {
   "cell_type": "code",
   "execution_count": 11,
   "metadata": {},
   "outputs": [],
   "source": [
    "# dataProcess(homepath=homepath_common,\n",
    "#             names=names_common,\n",
    "#             cancerpath=cancerpath_common,\n",
    "#             smoothed_cancer=smoothed_cancer_common,\n",
    "#             smoothed_normal=smoothed_normal_common,\n",
    "#             scale_mode=0,\n",
    "#             cancer='BRCA')"
   ]
  },
  {
   "cell_type": "markdown",
   "metadata": {},
   "source": [
    "Upsampling"
   ]
  },
  {
   "cell_type": "code",
   "execution_count": 12,
   "metadata": {},
   "outputs": [
    {
     "name": "stdout",
     "output_type": "stream",
     "text": [
      "Upsampling on train data is running\n",
      "Upsampling on train data has ended\n",
      "\n"
     ]
    }
   ],
   "source": [
    "upsampled(names_rare, homepath_rare)"
   ]
  },
  {
   "cell_type": "code",
   "execution_count": 13,
   "metadata": {},
   "outputs": [],
   "source": [
    "# upsampled(names_common, homepath_common)"
   ]
  },
  {
   "cell_type": "markdown",
   "metadata": {},
   "source": [
    "Binary merge"
   ]
  },
  {
   "cell_type": "code",
   "execution_count": 14,
   "metadata": {},
   "outputs": [
    {
     "name": "stdout",
     "output_type": "stream",
     "text": [
      "Merging for binary has started\n",
      "Merging for binary has ended\n",
      "\n"
     ]
    }
   ],
   "source": [
    "binary_merge(names_rare, homepath_rare)"
   ]
  },
  {
   "cell_type": "code",
   "execution_count": 15,
   "metadata": {},
   "outputs": [],
   "source": [
    "# binary_merge(names_common, homepath_common)"
   ]
  },
  {
   "cell_type": "markdown",
   "metadata": {},
   "source": [
    "Multi-merge"
   ]
  },
  {
   "cell_type": "code",
   "execution_count": 16,
   "metadata": {},
   "outputs": [
    {
     "name": "stdout",
     "output_type": "stream",
     "text": [
      "Merging for multiclass has started\n",
      "Merging for multiclass has ended\n",
      "\n"
     ]
    }
   ],
   "source": [
    "multi_merge(names_rare, homepath_rare)"
   ]
  },
  {
   "cell_type": "code",
   "execution_count": 17,
   "metadata": {},
   "outputs": [],
   "source": [
    "# multi_merge(names_common, homepath_common)"
   ]
  },
  {
   "cell_type": "markdown",
   "metadata": {},
   "source": [
    "Binary Classification"
   ]
  },
  {
   "cell_type": "code",
   "execution_count": 18,
   "metadata": {},
   "outputs": [],
   "source": [
    "# classification(homepath_rare, RandomForestClassifier(n_estimators=100), mode=\"binary\", save_model=\"RF\")"
   ]
  },
  {
   "cell_type": "code",
   "execution_count": 19,
   "metadata": {},
   "outputs": [],
   "source": [
    "# classification(homepath_common, RandomForestClassifier(n_estimators=100), mode=\"binary\", save_model=\"RF\")"
   ]
  },
  {
   "cell_type": "markdown",
   "metadata": {},
   "source": [
    "Multi-classification"
   ]
  },
  {
   "cell_type": "code",
   "execution_count": 20,
   "metadata": {},
   "outputs": [],
   "source": [
    "# classification(homepath_rare, RandomForestClassifier(n_estimators=100), mode=\"multi\", save_model=\"RF\")"
   ]
  },
  {
   "cell_type": "code",
   "execution_count": 21,
   "metadata": {},
   "outputs": [],
   "source": [
    "# classification(homepath_common, RandomForestClassifier(n_estimators=100), mode=\"multi\", save_model=\"RF\")"
   ]
  },
  {
   "cell_type": "markdown",
   "metadata": {},
   "source": [
    "Gene enrichment check"
   ]
  },
  {
   "cell_type": "code",
   "execution_count": 22,
   "metadata": {},
   "outputs": [],
   "source": [
    "# gsea(homepath_rare)"
   ]
  },
  {
   "cell_type": "markdown",
   "metadata": {},
   "source": []
  },
  {
   "cell_type": "markdown",
   "metadata": {},
   "source": [
    "## Try ncv with rare dataset"
   ]
  },
  {
   "cell_type": "code",
   "execution_count": 23,
   "metadata": {},
   "outputs": [],
   "source": [
    "from panclassif.ncvclass import NestedCV"
   ]
  },
  {
   "cell_type": "code",
   "execution_count": 24,
   "metadata": {},
   "outputs": [],
   "source": [
    "#train data load\n",
    "Cancer = pd.read_csv(homepath_rare+\"/train_data/bin_Cancer.txt.bz2\",header=None, delimiter = \"\\t\")\n",
    "Normal = pd.read_csv(homepath_rare+\"/train_data/bin_Normal.txt.bz2\",header=None, delimiter = \"\\t\")\n",
    "Cancer['Target'] = 1\n",
    "Normal['Target'] = 0\n",
    "#Normal = Normal.drop(Normal.index[0])\n",
    "frame = [Cancer,Normal]\n",
    "Data = pd.concat(frame,axis=0)\n",
    "X_train = Data.iloc[:,:len(Data.columns)-1]\n",
    "y_train = Data.iloc[:,len(Data.columns)-1]"
   ]
  },
  {
   "cell_type": "code",
   "execution_count": 28,
   "metadata": {},
   "outputs": [
    {
     "name": "stdout",
     "output_type": "stream",
     "text": [
      "\n",
      "Using classifier: RandomForest\n",
      "\n"
     ]
    },
    {
     "name": "stderr",
     "output_type": "stream",
     "text": [
      "  0%|          | 0/10 [00:00<?, ?it/s]"
     ]
    },
    {
     "name": "stdout",
     "output_type": "stream",
     "text": [
      "\n",
      "Starting round 1...\n"
     ]
    },
    {
     "name": "stderr",
     "output_type": "stream",
     "text": [
      "Trial 0 failed with parameters: {'n_estimators': 762.8033556884955} because of the following error: The value nan is not acceptable.\n",
      "Trial 1 failed with parameters: {'n_estimators': 1925.6090254311923} because of the following error: The value nan is not acceptable.\n",
      "Trial 2 failed with parameters: {'n_estimators': 1207.9447342544934} because of the following error: The value nan is not acceptable.\n",
      "Trial 0 failed with value nan.\n",
      "Trial 5 failed with parameters: {'n_estimators': 1645.3292866384136} because of the following error: The value nan is not acceptable.\n",
      "Trial 1 failed with value nan.\n",
      "Trial 6 failed with parameters: {'n_estimators': 1850.7654127863075} because of the following error: The value nan is not acceptable.\n",
      "Trial 4 failed with parameters: {'n_estimators': 426.911862188384} because of the following error: The value nan is not acceptable.\n",
      "Trial 7 failed with parameters: {'n_estimators': 1440.676540362989} because of the following error: The value nan is not acceptable.\n",
      "Trial 2 failed with value nan.\n",
      "Trial 3 failed with parameters: {'n_estimators': 170.2500644222479} because of the following error: The value nan is not acceptable.\n",
      "Trial 5 failed with value nan.\n",
      "Trial 6 failed with value nan.\n",
      "Trial 4 failed with value nan.\n",
      "Trial 8 failed with parameters: {'n_estimators': 1175.8984594754731} because of the following error: The value nan is not acceptable.\n",
      "Trial 7 failed with value nan.\n",
      "Trial 9 failed with parameters: {'n_estimators': 1485.6426126924584} because of the following error: The value nan is not acceptable.\n",
      "Trial 3 failed with value nan.\n",
      "Trial 10 failed with parameters: {'n_estimators': 1146.370863510412} because of the following error: The value nan is not acceptable.\n",
      "Trial 8 failed with value nan.\n",
      "Trial 11 failed with parameters: {'n_estimators': 1311.4514096175587} because of the following error: The value nan is not acceptable.\n",
      "Trial 9 failed with value nan.\n",
      "Trial 12 failed with parameters: {'n_estimators': 1733.418383909153} because of the following error: The value nan is not acceptable.\n",
      "Trial 10 failed with value nan.\n",
      "Trial 13 failed with parameters: {'n_estimators': 536.2210226759746} because of the following error: The value nan is not acceptable.\n",
      "Trial 14 failed with parameters: {'n_estimators': 1048.3876827780487} because of the following error: The value nan is not acceptable.\n",
      "Trial 11 failed with value nan.\n",
      "Trial 12 failed with value nan.\n",
      "Trial 15 failed with parameters: {'n_estimators': 312.1487984536071} because of the following error: The value nan is not acceptable.\n",
      "Trial 16 failed with parameters: {'n_estimators': 320.2576415814317} because of the following error: The value nan is not acceptable.\n",
      "Trial 13 failed with value nan.\n",
      "Trial 17 failed with parameters: {'n_estimators': 678.587575041571} because of the following error: The value nan is not acceptable.\n",
      "Trial 14 failed with value nan.\n",
      "Trial 18 failed with parameters: {'n_estimators': 1160.4028995894648} because of the following error: The value nan is not acceptable.\n",
      "Trial 15 failed with value nan.\n",
      "Trial 16 failed with value nan.\n",
      "Trial 19 failed with parameters: {'n_estimators': 1933.9197261404702} because of the following error: The value nan is not acceptable.\n",
      "Trial 20 failed with parameters: {'n_estimators': 1236.4253625435822} because of the following error: The value nan is not acceptable.\n",
      "Trial 17 failed with value nan.\n",
      "Trial 18 failed with value nan.\n",
      "Trial 21 failed with parameters: {'n_estimators': 1185.0969284501891} because of the following error: The value nan is not acceptable.\n",
      "Trial 19 failed with value nan.\n",
      "Trial 22 failed with parameters: {'n_estimators': 706.0752137880766} because of the following error: The value nan is not acceptable.\n",
      "Trial 20 failed with value nan.\n",
      "Trial 23 failed with parameters: {'n_estimators': 155.11151484802517} because of the following error: The value nan is not acceptable.\n",
      "Trial 21 failed with value nan.\n",
      "Trial 24 failed with parameters: {'n_estimators': 1589.55691675773} because of the following error: The value nan is not acceptable.\n",
      "Trial 22 failed with value nan.\n",
      "Trial 23 failed with value nan.\n",
      "Trial 27 failed with parameters: {'n_estimators': 1849.3754388275863} because of the following error: The value nan is not acceptable.\n",
      "Trial 25 failed with parameters: {'n_estimators': 769.9377247236093} because of the following error: The value nan is not acceptable.\n",
      "Trial 26 failed with parameters: {'n_estimators': 285.717948115574} because of the following error: The value nan is not acceptable.\n",
      "Trial 24 failed with value nan.\n",
      "Trial 28 failed with parameters: {'n_estimators': 1347.5346479370244} because of the following error: The value nan is not acceptable.\n",
      "Trial 27 failed with value nan.\n",
      "Trial 25 failed with value nan.\n",
      "Trial 29 failed with parameters: {'n_estimators': 277.1064279043409} because of the following error: The value nan is not acceptable.\n",
      "Trial 26 failed with value nan.\n",
      "Trial 31 failed with parameters: {'n_estimators': 1186.7799299548349} because of the following error: The value nan is not acceptable.\n",
      "Trial 30 failed with parameters: {'n_estimators': 499.2029085520028} because of the following error: The value nan is not acceptable.\n",
      "Trial 28 failed with value nan.\n",
      "Trial 29 failed with value nan.\n",
      "Trial 32 failed with parameters: {'n_estimators': 1587.7994126092558} because of the following error: The value nan is not acceptable.\n",
      "Trial 33 failed with parameters: {'n_estimators': 1284.0505269410846} because of the following error: The value nan is not acceptable.\n",
      "Trial 33 failed with value nan.\n",
      "Trial 31 failed with value nan.\n",
      "Trial 30 failed with value nan.\n",
      "Trial 35 failed with parameters: {'n_estimators': 953.167767506602} because of the following error: The value nan is not acceptable.\n",
      "Trial 32 failed with value nan.\n",
      "Trial 36 failed with parameters: {'n_estimators': 1356.2288007326877} because of the following error: The value nan is not acceptable.\n",
      "Trial 34 failed with parameters: {'n_estimators': 1815.1750278133557} because of the following error: The value nan is not acceptable.\n",
      "Trial 37 failed with parameters: {'n_estimators': 558.6443544007719} because of the following error: The value nan is not acceptable.\n",
      "Trial 38 failed with parameters: {'n_estimators': 138.865345211177} because of the following error: The value nan is not acceptable.\n",
      "Trial 35 failed with value nan.\n",
      "Trial 39 failed with parameters: {'n_estimators': 1204.0085636001463} because of the following error: The value nan is not acceptable.\n",
      "Trial 40 failed with parameters: {'n_estimators': 963.4653592035031} because of the following error: The value nan is not acceptable.\n",
      "Trial 36 failed with value nan.\n",
      "Trial 34 failed with value nan.\n",
      "Trial 37 failed with value nan.\n",
      "Trial 38 failed with value nan.\n",
      "Trial 41 failed with parameters: {'n_estimators': 1405.715885554975} because of the following error: The value nan is not acceptable.\n",
      "Trial 39 failed with value nan.\n",
      "Trial 40 failed with value nan.\n",
      "Trial 42 failed with parameters: {'n_estimators': 374.08340847600437} because of the following error: The value nan is not acceptable.\n",
      "Trial 43 failed with parameters: {'n_estimators': 1801.9654918030465} because of the following error: The value nan is not acceptable.\n",
      "Trial 41 failed with value nan.\n",
      "Trial 44 failed with parameters: {'n_estimators': 1976.0088542618178} because of the following error: The value nan is not acceptable.\n",
      "Trial 42 failed with value nan.\n",
      "Trial 45 failed with parameters: {'n_estimators': 1807.8355777368938} because of the following error: The value nan is not acceptable.\n",
      "Trial 46 failed with parameters: {'n_estimators': 1243.2355723153025} because of the following error: The value nan is not acceptable.\n",
      "Trial 43 failed with value nan.\n",
      "Trial 47 failed with parameters: {'n_estimators': 460.21680796111974} because of the following error: The value nan is not acceptable.\n",
      "Trial 44 failed with value nan.\n",
      "Trial 48 failed with parameters: {'n_estimators': 362.9147916963116} because of the following error: The value nan is not acceptable.\n",
      "Trial 48 failed with value nan.\n",
      "Trial 49 failed with parameters: {'n_estimators': 657.1884444230589} because of the following error: The value nan is not acceptable.\n",
      "Trial 46 failed with value nan.\n",
      "Trial 47 failed with value nan.\n",
      "Trial 45 failed with value nan.\n",
      "Trial 49 failed with value nan.\n",
      "No trials are completed yet.\n",
      "Traceback (most recent call last):\n",
      "  File \"/opt/anaconda3/lib/python3.11/site-packages/optuna_integration/sklearn.py\", line 820, in _refit\n",
      "    self.best_estimator_.set_params(**self.study_.best_params)\n",
      "                                      ^^^^^^^^^^^^^^^^^^^^^^^\n",
      "  File \"/opt/anaconda3/lib/python3.11/site-packages/optuna/study/study.py\", line 114, in best_params\n",
      "    return self.best_trial.params\n",
      "           ^^^^^^^^^^^^^^^\n",
      "  File \"/opt/anaconda3/lib/python3.11/site-packages/optuna/study/study.py\", line 157, in best_trial\n",
      "    return copy.deepcopy(self._storage.get_best_trial(self._study_id))\n",
      "                         ^^^^^^^^^^^^^^^^^^^^^^^^^^^^^^^^^^^^^^^^^^^^\n",
      "  File \"/opt/anaconda3/lib/python3.11/site-packages/optuna/storages/_in_memory.py\", line 234, in get_best_trial\n",
      "    raise ValueError(\"No trials are completed yet.\")\n",
      "ValueError: No trials are completed yet.\n",
      "0it [00:00, ?it/s]\n",
      "  0%|          | 0/10 [00:00<?, ?it/s]"
     ]
    },
    {
     "name": "stdout",
     "output_type": "stream",
     "text": [
      "Unexpected error: 'OptunaSearchCV' object has no attribute 'params'\n"
     ]
    },
    {
     "name": "stderr",
     "output_type": "stream",
     "text": [
      "\n"
     ]
    }
   ],
   "source": [
    "import numpy as np\n",
    "from sklearn.ensemble import RandomForestClassifier\n",
    "from sklearn.impute import SimpleImputer\n",
    "from sklearn.model_selection import GridSearchCV\n",
    "from sklearn.model_selection import StratifiedKFold\n",
    "import optuna\n",
    "import optuna.integration.sklearn\n",
    "\n",
    "# Assuming X_train and y_train are pandas DataFrames/Series\n",
    "# Reset index if there are issues with non-sequential indices\n",
    "X_train.reset_index(drop=True, inplace=True)\n",
    "y_train.reset_index(drop=True, inplace=True)\n",
    "\n",
    "# Replace NaN values with the mean of the column\n",
    "imputer = SimpleImputer(strategy='mean')\n",
    "X_train_clean = imputer.fit_transform(X_train)\n",
    "\n",
    "# Define classifiers and their parameter grids\n",
    "classifiers = {\n",
    "    'RandomForest': RandomForestClassifier()\n",
    "}\n",
    "\n",
    "# Define Optuna distributions\n",
    "param_distributions = {\n",
    "    'n_estimators': optuna.distributions.FloatDistribution(100, 2000)\n",
    "}\n",
    "\n",
    "# Create the random grid\n",
    "param_grids = {'RandomForest': param_distributions}\n",
    "\n",
    "# Define seeds for reproducibility\n",
    "seeds = np.random.randint(0, 100, size=30)  # 10 rounds * 3 seeds per round\n",
    "\n",
    "# Instantiate NestedCV and perform nested cross-validation with Optuna\n",
    "try:\n",
    "    nested_cv = NestedCV(classifiers=classifiers, seeds=seeds, param_grids=param_grids)\n",
    "    all_outer_scores, all_outer_params = nested_cv.fit(X_train_clean, y_train)\n",
    "    print(all_outer_scores)\n",
    "    print(all_outer_params)\n",
    "except ValueError as e:\n",
    "    print(f\"Error during nested cross-validation: {str(e)}\")\n",
    "except Exception as e:\n",
    "    print(f\"Unexpected error: {str(e)}\")\n"
   ]
  },
  {
   "cell_type": "code",
   "execution_count": 30,
   "metadata": {},
   "outputs": [
    {
     "name": "stderr",
     "output_type": "stream",
     "text": [
      "Trial 0 failed with parameters: {'n_estimators': 272.6480359131639} because of the following error: The value nan is not acceptable.\n",
      "Trial 0 failed with value nan.\n",
      "Trial 1 failed with parameters: {'n_estimators': 1182.6325814994746} because of the following error: The value nan is not acceptable.\n",
      "Trial 2 failed with parameters: {'n_estimators': 125.97766025340688} because of the following error: The value nan is not acceptable.\n",
      "Trial 5 failed with parameters: {'n_estimators': 415.16407194713645} because of the following error: The value nan is not acceptable.\n",
      "Trial 5 failed with value nan.\n",
      "Trial 1 failed with value nan.\n",
      "Trial 4 failed with parameters: {'n_estimators': 659.0293997193166} because of the following error: The value nan is not acceptable.\n",
      "Trial 3 failed with parameters: {'n_estimators': 1030.8955245787006} because of the following error: The value nan is not acceptable.\n",
      "Trial 2 failed with value nan.\n",
      "Trial 7 failed with parameters: {'n_estimators': 903.933747143121} because of the following error: The value nan is not acceptable.\n",
      "Trial 8 failed with parameters: {'n_estimators': 295.9384435666832} because of the following error: The value nan is not acceptable.\n",
      "Trial 6 failed with parameters: {'n_estimators': 761.6737398130139} because of the following error: The value nan is not acceptable.\n",
      "Trial 4 failed with value nan.\n",
      "Trial 3 failed with value nan.\n",
      "Trial 9 failed with parameters: {'n_estimators': 796.4292861133132} because of the following error: The value nan is not acceptable.\n",
      "Trial 7 failed with value nan.\n",
      "Trial 8 failed with value nan.\n",
      "Trial 6 failed with value nan.\n",
      "Trial 9 failed with value nan.\n",
      "No trials are completed yet.\n",
      "Traceback (most recent call last):\n",
      "  File \"/opt/anaconda3/lib/python3.11/site-packages/optuna_integration/sklearn.py\", line 820, in _refit\n",
      "    self.best_estimator_.set_params(**self.study_.best_params)\n",
      "                                      ^^^^^^^^^^^^^^^^^^^^^^^\n",
      "  File \"/opt/anaconda3/lib/python3.11/site-packages/optuna/study/study.py\", line 114, in best_params\n",
      "    return self.best_trial.params\n",
      "           ^^^^^^^^^^^^^^^\n",
      "  File \"/opt/anaconda3/lib/python3.11/site-packages/optuna/study/study.py\", line 157, in best_trial\n",
      "    return copy.deepcopy(self._storage.get_best_trial(self._study_id))\n",
      "                         ^^^^^^^^^^^^^^^^^^^^^^^^^^^^^^^^^^^^^^^^^^^^\n",
      "  File \"/opt/anaconda3/lib/python3.11/site-packages/optuna/storages/_in_memory.py\", line 234, in get_best_trial\n",
      "    raise ValueError(\"No trials are completed yet.\")\n",
      "ValueError: No trials are completed yet.\n"
     ]
    },
    {
     "name": "stdout",
     "output_type": "stream",
     "text": [
      "Unexpected error during optimization: No trials are completed yet.\n"
     ]
    }
   ],
   "source": [
    "import numpy as np\n",
    "from sklearn.ensemble import RandomForestClassifier\n",
    "from sklearn.impute import SimpleImputer\n",
    "import optuna.integration.sklearn\n",
    "\n",
    "# Assuming X_train and y_train are pandas DataFrames/Series\n",
    "# Reset index if there are issues with non-sequential indices\n",
    "X_train.reset_index(drop=True, inplace=True)\n",
    "y_train.reset_index(drop=True, inplace=True)\n",
    "\n",
    "# Replace NaN values with the mean of the column\n",
    "imputer = SimpleImputer(strategy='mean')\n",
    "X_train_clean = imputer.fit_transform(X_train)\n",
    "\n",
    "# Define classifier and its parameter grid\n",
    "classifier = RandomForestClassifier()\n",
    "\n",
    "# Define Optuna distributions\n",
    "param_distributions = {\n",
    "    'n_estimators': optuna.distributions.FloatDistribution(100, 2000)\n",
    "}\n",
    "\n",
    "# Instantiate OptunaSearchCV\n",
    "optuna_search = optuna.integration.sklearn.OptunaSearchCV(\n",
    "    classifier,\n",
    "    param_distributions,\n",
    "    cv=5,\n",
    "    n_trials=10,  # Number of trials for optimization\n",
    "    n_jobs=-1  # Use all available cores\n",
    ")\n",
    "\n",
    "# Fit OptunaSearchCV\n",
    "try:\n",
    "    optuna_search.fit(X_train_clean, y_train)\n",
    "    print(\"Best parameters found:\", optuna_search.best_params_)\n",
    "    print(\"Best score found:\", optuna_search.best_score_)\n",
    "except Exception as e:\n",
    "    print(f\"Unexpected error during optimization: {str(e)}\")\n"
   ]
  },
  {
   "cell_type": "code",
   "execution_count": 31,
   "metadata": {},
   "outputs": [
    {
     "data": {
      "application/vnd.jupyter.widget-view+json": {
       "model_id": "2ee5ea98dadf4ec0b660558b5f3de2f6",
       "version_major": 2,
       "version_minor": 0
      },
      "text/plain": [
       "  0%|          | 0/20 [00:00<?, ?it/s]"
      ]
     },
     "metadata": {},
     "output_type": "display_data"
    },
    {
     "name": "stdout",
     "output_type": "stream",
     "text": [
      "Best trial: FrozenTrial(number=10, state=1, values=[0.3300254618374199], datetime_start=datetime.datetime(2024, 7, 3, 0, 11, 3, 683429), datetime_complete=datetime.datetime(2024, 7, 3, 0, 11, 22, 119159), params={'n_estimators': 187, 'max_depth': 20, 'min_samples_split': 6, 'min_samples_leaf': 4}, user_attrs={}, system_attrs={}, intermediate_values={}, distributions={'n_estimators': IntDistribution(high=200, log=True, low=10, step=1), 'max_depth': IntDistribution(high=32, log=False, low=2, step=1), 'min_samples_split': IntDistribution(high=10, log=False, low=2, step=1), 'min_samples_leaf': IntDistribution(high=10, log=False, low=1, step=1)}, trial_id=10, value=None)\n",
      "Best hyperparameters: {'n_estimators': 187, 'max_depth': 20, 'min_samples_split': 6, 'min_samples_leaf': 4}\n"
     ]
    },
    {
     "data": {
      "application/vnd.plotly.v1+json": {
       "config": {
        "plotlyServerURL": "https://plot.ly"
       },
       "data": [
        {
         "dimensions": [
          {
           "label": "Objective Value",
           "range": [
            0.3300254618374199,
            0.5805664980749964
           ],
           "values": [
            0.34287515264369617,
            0.33529977418720497,
            0.33057036545645024,
            0.3834637466569555,
            0.34904066716100823,
            0.3305494796357002,
            0.3493181864025887,
            0.3370232572738401,
            0.40481499100939805,
            0.3385397327505775,
            0.3300254618374199,
            0.3303405859351497,
            0.33204348082449864,
            0.5805664980749964,
            0.33034787952588246,
            0.3346152838516275,
            0.3377195879279492,
            0.3311042533356975,
            0.33602319799348546,
            0.3553896502397799
           ]
          },
          {
           "label": "max_depth",
           "range": [
            3,
            32
           ],
           "values": [
            27,
            28,
            26,
            9,
            12,
            22,
            17,
            28,
            8,
            32,
            20,
            20,
            18,
            3,
            18,
            22,
            13,
            22,
            15,
            20
           ]
          },
          {
           "label": "min_samples_leaf",
           "range": [
            1,
            10
           ],
           "values": [
            7,
            2,
            1,
            1,
            8,
            4,
            10,
            3,
            5,
            7,
            4,
            4,
            5,
            3,
            4,
            6,
            3,
            4,
            6,
            9
           ]
          },
          {
           "label": "min_samples_split",
           "range": [
            2,
            10
           ],
           "values": [
            9,
            8,
            8,
            4,
            10,
            10,
            4,
            3,
            3,
            2,
            6,
            6,
            6,
            6,
            7,
            5,
            7,
            5,
            7,
            5
           ]
          },
          {
           "label": "n_estimators",
           "range": [
            1,
            2.3010299956639813
           ],
           "ticktext": [
            "10",
            "100",
            "200"
           ],
           "tickvals": [
            1,
            2,
            2.3010299956639813
           ],
           "values": [
            1.1139433523068367,
            1.3979400086720377,
            1.863322860120456,
            1.6434526764861874,
            1.7993405494535817,
            1.9912260756924949,
            1.3222192947339193,
            1.2041199826559248,
            1.462397997898956,
            1.6127838567197355,
            2.271841606536499,
            2.250420002308894,
            2.2671717284030137,
            2.287801729930226,
            2.0863598306747484,
            2.1072099696478683,
            2.123851640967086,
            1.8864907251724818,
            2.3010299956639813,
            1
           ]
          }
         ],
         "labelangle": 30,
         "labelside": "bottom",
         "line": {
          "color": [
           0.34287515264369617,
           0.33529977418720497,
           0.33057036545645024,
           0.3834637466569555,
           0.34904066716100823,
           0.3305494796357002,
           0.3493181864025887,
           0.3370232572738401,
           0.40481499100939805,
           0.3385397327505775,
           0.3300254618374199,
           0.3303405859351497,
           0.33204348082449864,
           0.5805664980749964,
           0.33034787952588246,
           0.3346152838516275,
           0.3377195879279492,
           0.3311042533356975,
           0.33602319799348546,
           0.3553896502397799
          ],
          "colorbar": {
           "title": {
            "text": "Objective Value"
           }
          },
          "colorscale": [
           [
            0,
            "rgb(247,251,255)"
           ],
           [
            0.125,
            "rgb(222,235,247)"
           ],
           [
            0.25,
            "rgb(198,219,239)"
           ],
           [
            0.375,
            "rgb(158,202,225)"
           ],
           [
            0.5,
            "rgb(107,174,214)"
           ],
           [
            0.625,
            "rgb(66,146,198)"
           ],
           [
            0.75,
            "rgb(33,113,181)"
           ],
           [
            0.875,
            "rgb(8,81,156)"
           ],
           [
            1,
            "rgb(8,48,107)"
           ]
          ],
          "reversescale": true,
          "showscale": true
         },
         "type": "parcoords"
        }
       ],
       "layout": {
        "template": {
         "data": {
          "bar": [
           {
            "error_x": {
             "color": "#2a3f5f"
            },
            "error_y": {
             "color": "#2a3f5f"
            },
            "marker": {
             "line": {
              "color": "#E5ECF6",
              "width": 0.5
             },
             "pattern": {
              "fillmode": "overlay",
              "size": 10,
              "solidity": 0.2
             }
            },
            "type": "bar"
           }
          ],
          "barpolar": [
           {
            "marker": {
             "line": {
              "color": "#E5ECF6",
              "width": 0.5
             },
             "pattern": {
              "fillmode": "overlay",
              "size": 10,
              "solidity": 0.2
             }
            },
            "type": "barpolar"
           }
          ],
          "carpet": [
           {
            "aaxis": {
             "endlinecolor": "#2a3f5f",
             "gridcolor": "white",
             "linecolor": "white",
             "minorgridcolor": "white",
             "startlinecolor": "#2a3f5f"
            },
            "baxis": {
             "endlinecolor": "#2a3f5f",
             "gridcolor": "white",
             "linecolor": "white",
             "minorgridcolor": "white",
             "startlinecolor": "#2a3f5f"
            },
            "type": "carpet"
           }
          ],
          "choropleth": [
           {
            "colorbar": {
             "outlinewidth": 0,
             "ticks": ""
            },
            "type": "choropleth"
           }
          ],
          "contour": [
           {
            "colorbar": {
             "outlinewidth": 0,
             "ticks": ""
            },
            "colorscale": [
             [
              0,
              "#0d0887"
             ],
             [
              0.1111111111111111,
              "#46039f"
             ],
             [
              0.2222222222222222,
              "#7201a8"
             ],
             [
              0.3333333333333333,
              "#9c179e"
             ],
             [
              0.4444444444444444,
              "#bd3786"
             ],
             [
              0.5555555555555556,
              "#d8576b"
             ],
             [
              0.6666666666666666,
              "#ed7953"
             ],
             [
              0.7777777777777778,
              "#fb9f3a"
             ],
             [
              0.8888888888888888,
              "#fdca26"
             ],
             [
              1,
              "#f0f921"
             ]
            ],
            "type": "contour"
           }
          ],
          "contourcarpet": [
           {
            "colorbar": {
             "outlinewidth": 0,
             "ticks": ""
            },
            "type": "contourcarpet"
           }
          ],
          "heatmap": [
           {
            "colorbar": {
             "outlinewidth": 0,
             "ticks": ""
            },
            "colorscale": [
             [
              0,
              "#0d0887"
             ],
             [
              0.1111111111111111,
              "#46039f"
             ],
             [
              0.2222222222222222,
              "#7201a8"
             ],
             [
              0.3333333333333333,
              "#9c179e"
             ],
             [
              0.4444444444444444,
              "#bd3786"
             ],
             [
              0.5555555555555556,
              "#d8576b"
             ],
             [
              0.6666666666666666,
              "#ed7953"
             ],
             [
              0.7777777777777778,
              "#fb9f3a"
             ],
             [
              0.8888888888888888,
              "#fdca26"
             ],
             [
              1,
              "#f0f921"
             ]
            ],
            "type": "heatmap"
           }
          ],
          "heatmapgl": [
           {
            "colorbar": {
             "outlinewidth": 0,
             "ticks": ""
            },
            "colorscale": [
             [
              0,
              "#0d0887"
             ],
             [
              0.1111111111111111,
              "#46039f"
             ],
             [
              0.2222222222222222,
              "#7201a8"
             ],
             [
              0.3333333333333333,
              "#9c179e"
             ],
             [
              0.4444444444444444,
              "#bd3786"
             ],
             [
              0.5555555555555556,
              "#d8576b"
             ],
             [
              0.6666666666666666,
              "#ed7953"
             ],
             [
              0.7777777777777778,
              "#fb9f3a"
             ],
             [
              0.8888888888888888,
              "#fdca26"
             ],
             [
              1,
              "#f0f921"
             ]
            ],
            "type": "heatmapgl"
           }
          ],
          "histogram": [
           {
            "marker": {
             "pattern": {
              "fillmode": "overlay",
              "size": 10,
              "solidity": 0.2
             }
            },
            "type": "histogram"
           }
          ],
          "histogram2d": [
           {
            "colorbar": {
             "outlinewidth": 0,
             "ticks": ""
            },
            "colorscale": [
             [
              0,
              "#0d0887"
             ],
             [
              0.1111111111111111,
              "#46039f"
             ],
             [
              0.2222222222222222,
              "#7201a8"
             ],
             [
              0.3333333333333333,
              "#9c179e"
             ],
             [
              0.4444444444444444,
              "#bd3786"
             ],
             [
              0.5555555555555556,
              "#d8576b"
             ],
             [
              0.6666666666666666,
              "#ed7953"
             ],
             [
              0.7777777777777778,
              "#fb9f3a"
             ],
             [
              0.8888888888888888,
              "#fdca26"
             ],
             [
              1,
              "#f0f921"
             ]
            ],
            "type": "histogram2d"
           }
          ],
          "histogram2dcontour": [
           {
            "colorbar": {
             "outlinewidth": 0,
             "ticks": ""
            },
            "colorscale": [
             [
              0,
              "#0d0887"
             ],
             [
              0.1111111111111111,
              "#46039f"
             ],
             [
              0.2222222222222222,
              "#7201a8"
             ],
             [
              0.3333333333333333,
              "#9c179e"
             ],
             [
              0.4444444444444444,
              "#bd3786"
             ],
             [
              0.5555555555555556,
              "#d8576b"
             ],
             [
              0.6666666666666666,
              "#ed7953"
             ],
             [
              0.7777777777777778,
              "#fb9f3a"
             ],
             [
              0.8888888888888888,
              "#fdca26"
             ],
             [
              1,
              "#f0f921"
             ]
            ],
            "type": "histogram2dcontour"
           }
          ],
          "mesh3d": [
           {
            "colorbar": {
             "outlinewidth": 0,
             "ticks": ""
            },
            "type": "mesh3d"
           }
          ],
          "parcoords": [
           {
            "line": {
             "colorbar": {
              "outlinewidth": 0,
              "ticks": ""
             }
            },
            "type": "parcoords"
           }
          ],
          "pie": [
           {
            "automargin": true,
            "type": "pie"
           }
          ],
          "scatter": [
           {
            "fillpattern": {
             "fillmode": "overlay",
             "size": 10,
             "solidity": 0.2
            },
            "type": "scatter"
           }
          ],
          "scatter3d": [
           {
            "line": {
             "colorbar": {
              "outlinewidth": 0,
              "ticks": ""
             }
            },
            "marker": {
             "colorbar": {
              "outlinewidth": 0,
              "ticks": ""
             }
            },
            "type": "scatter3d"
           }
          ],
          "scattercarpet": [
           {
            "marker": {
             "colorbar": {
              "outlinewidth": 0,
              "ticks": ""
             }
            },
            "type": "scattercarpet"
           }
          ],
          "scattergeo": [
           {
            "marker": {
             "colorbar": {
              "outlinewidth": 0,
              "ticks": ""
             }
            },
            "type": "scattergeo"
           }
          ],
          "scattergl": [
           {
            "marker": {
             "colorbar": {
              "outlinewidth": 0,
              "ticks": ""
             }
            },
            "type": "scattergl"
           }
          ],
          "scattermapbox": [
           {
            "marker": {
             "colorbar": {
              "outlinewidth": 0,
              "ticks": ""
             }
            },
            "type": "scattermapbox"
           }
          ],
          "scatterpolar": [
           {
            "marker": {
             "colorbar": {
              "outlinewidth": 0,
              "ticks": ""
             }
            },
            "type": "scatterpolar"
           }
          ],
          "scatterpolargl": [
           {
            "marker": {
             "colorbar": {
              "outlinewidth": 0,
              "ticks": ""
             }
            },
            "type": "scatterpolargl"
           }
          ],
          "scatterternary": [
           {
            "marker": {
             "colorbar": {
              "outlinewidth": 0,
              "ticks": ""
             }
            },
            "type": "scatterternary"
           }
          ],
          "surface": [
           {
            "colorbar": {
             "outlinewidth": 0,
             "ticks": ""
            },
            "colorscale": [
             [
              0,
              "#0d0887"
             ],
             [
              0.1111111111111111,
              "#46039f"
             ],
             [
              0.2222222222222222,
              "#7201a8"
             ],
             [
              0.3333333333333333,
              "#9c179e"
             ],
             [
              0.4444444444444444,
              "#bd3786"
             ],
             [
              0.5555555555555556,
              "#d8576b"
             ],
             [
              0.6666666666666666,
              "#ed7953"
             ],
             [
              0.7777777777777778,
              "#fb9f3a"
             ],
             [
              0.8888888888888888,
              "#fdca26"
             ],
             [
              1,
              "#f0f921"
             ]
            ],
            "type": "surface"
           }
          ],
          "table": [
           {
            "cells": {
             "fill": {
              "color": "#EBF0F8"
             },
             "line": {
              "color": "white"
             }
            },
            "header": {
             "fill": {
              "color": "#C8D4E3"
             },
             "line": {
              "color": "white"
             }
            },
            "type": "table"
           }
          ]
         },
         "layout": {
          "annotationdefaults": {
           "arrowcolor": "#2a3f5f",
           "arrowhead": 0,
           "arrowwidth": 1
          },
          "autotypenumbers": "strict",
          "coloraxis": {
           "colorbar": {
            "outlinewidth": 0,
            "ticks": ""
           }
          },
          "colorscale": {
           "diverging": [
            [
             0,
             "#8e0152"
            ],
            [
             0.1,
             "#c51b7d"
            ],
            [
             0.2,
             "#de77ae"
            ],
            [
             0.3,
             "#f1b6da"
            ],
            [
             0.4,
             "#fde0ef"
            ],
            [
             0.5,
             "#f7f7f7"
            ],
            [
             0.6,
             "#e6f5d0"
            ],
            [
             0.7,
             "#b8e186"
            ],
            [
             0.8,
             "#7fbc41"
            ],
            [
             0.9,
             "#4d9221"
            ],
            [
             1,
             "#276419"
            ]
           ],
           "sequential": [
            [
             0,
             "#0d0887"
            ],
            [
             0.1111111111111111,
             "#46039f"
            ],
            [
             0.2222222222222222,
             "#7201a8"
            ],
            [
             0.3333333333333333,
             "#9c179e"
            ],
            [
             0.4444444444444444,
             "#bd3786"
            ],
            [
             0.5555555555555556,
             "#d8576b"
            ],
            [
             0.6666666666666666,
             "#ed7953"
            ],
            [
             0.7777777777777778,
             "#fb9f3a"
            ],
            [
             0.8888888888888888,
             "#fdca26"
            ],
            [
             1,
             "#f0f921"
            ]
           ],
           "sequentialminus": [
            [
             0,
             "#0d0887"
            ],
            [
             0.1111111111111111,
             "#46039f"
            ],
            [
             0.2222222222222222,
             "#7201a8"
            ],
            [
             0.3333333333333333,
             "#9c179e"
            ],
            [
             0.4444444444444444,
             "#bd3786"
            ],
            [
             0.5555555555555556,
             "#d8576b"
            ],
            [
             0.6666666666666666,
             "#ed7953"
            ],
            [
             0.7777777777777778,
             "#fb9f3a"
            ],
            [
             0.8888888888888888,
             "#fdca26"
            ],
            [
             1,
             "#f0f921"
            ]
           ]
          },
          "colorway": [
           "#636efa",
           "#EF553B",
           "#00cc96",
           "#ab63fa",
           "#FFA15A",
           "#19d3f3",
           "#FF6692",
           "#B6E880",
           "#FF97FF",
           "#FECB52"
          ],
          "font": {
           "color": "#2a3f5f"
          },
          "geo": {
           "bgcolor": "white",
           "lakecolor": "white",
           "landcolor": "#E5ECF6",
           "showlakes": true,
           "showland": true,
           "subunitcolor": "white"
          },
          "hoverlabel": {
           "align": "left"
          },
          "hovermode": "closest",
          "mapbox": {
           "style": "light"
          },
          "paper_bgcolor": "white",
          "plot_bgcolor": "#E5ECF6",
          "polar": {
           "angularaxis": {
            "gridcolor": "white",
            "linecolor": "white",
            "ticks": ""
           },
           "bgcolor": "#E5ECF6",
           "radialaxis": {
            "gridcolor": "white",
            "linecolor": "white",
            "ticks": ""
           }
          },
          "scene": {
           "xaxis": {
            "backgroundcolor": "#E5ECF6",
            "gridcolor": "white",
            "gridwidth": 2,
            "linecolor": "white",
            "showbackground": true,
            "ticks": "",
            "zerolinecolor": "white"
           },
           "yaxis": {
            "backgroundcolor": "#E5ECF6",
            "gridcolor": "white",
            "gridwidth": 2,
            "linecolor": "white",
            "showbackground": true,
            "ticks": "",
            "zerolinecolor": "white"
           },
           "zaxis": {
            "backgroundcolor": "#E5ECF6",
            "gridcolor": "white",
            "gridwidth": 2,
            "linecolor": "white",
            "showbackground": true,
            "ticks": "",
            "zerolinecolor": "white"
           }
          },
          "shapedefaults": {
           "line": {
            "color": "#2a3f5f"
           }
          },
          "ternary": {
           "aaxis": {
            "gridcolor": "white",
            "linecolor": "white",
            "ticks": ""
           },
           "baxis": {
            "gridcolor": "white",
            "linecolor": "white",
            "ticks": ""
           },
           "bgcolor": "#E5ECF6",
           "caxis": {
            "gridcolor": "white",
            "linecolor": "white",
            "ticks": ""
           }
          },
          "title": {
           "x": 0.05
          },
          "xaxis": {
           "automargin": true,
           "gridcolor": "white",
           "linecolor": "white",
           "ticks": "",
           "title": {
            "standoff": 15
           },
           "zerolinecolor": "white",
           "zerolinewidth": 2
          },
          "yaxis": {
           "automargin": true,
           "gridcolor": "white",
           "linecolor": "white",
           "ticks": "",
           "title": {
            "standoff": 15
           },
           "zerolinecolor": "white",
           "zerolinewidth": 2
          }
         }
        },
        "title": {
         "text": "Parallel Coordinate Plot"
        }
       }
      }
     },
     "metadata": {},
     "output_type": "display_data"
    }
   ],
   "source": [
    "# Import libraries\n",
    "import numpy as np\n",
    "import pandas as pd\n",
    "from sklearn.datasets import fetch_california_housing\n",
    "from sklearn.model_selection import train_test_split\n",
    "from sklearn.ensemble import RandomForestRegressor\n",
    "from sklearn.metrics import mean_squared_error, mean_absolute_error, r2_score\n",
    "import optuna\n",
    "import optuna.visualization as vis\n",
    "\n",
    "# Load dataset\n",
    "california = fetch_california_housing()\n",
    "X = california.data\n",
    "y = california.target\n",
    "\n",
    "# Split data into train and test sets\n",
    "X_train, X_test, y_train, y_test = train_test_split(X, y, test_size=0.2, random_state=42)\n",
    "\n",
    "# Define objective function\n",
    "def objective(trial):\n",
    "    # Suggest values for hyperparameters\n",
    "    n_estimators = trial.suggest_int(\"n_estimators\", 10, 200, log=True)\n",
    "    max_depth = trial.suggest_int(\"max_depth\", 2, 32)\n",
    "    min_samples_split = trial.suggest_int(\"min_samples_split\", 2, 10)\n",
    "    min_samples_leaf = trial.suggest_int(\"min_samples_leaf\", 1, 10)\n",
    "\n",
    "    # Create and fit random forest model\n",
    "    model = RandomForestRegressor(\n",
    "        n_estimators=n_estimators,\n",
    "        max_depth=max_depth,\n",
    "        min_samples_split=min_samples_split,\n",
    "        min_samples_leaf=min_samples_leaf,\n",
    "        random_state=42,\n",
    "    )\n",
    "    model.fit(X_train, y_train)\n",
    "\n",
    "    # Make predictions and calculate RMSE\n",
    "    y_pred = model.predict(X_test)\n",
    "    rmse = np.sqrt(mean_squared_error(y_test, y_pred))\n",
    "    mae = mean_absolute_error(y_test, y_pred)\n",
    "    r2 = r2_score(y_test, y_pred)\n",
    "\n",
    "    # Return MAE\n",
    "    return mae\n",
    "\n",
    "# Create study object\n",
    "study = optuna.create_study(direction=\"minimize\")\n",
    "\n",
    "# Run optimization process\n",
    "study.optimize(objective, n_trials=20, show_progress_bar=True)\n",
    "\n",
    "# Print best trial and best hyperparameters\n",
    "print(\"Best trial:\", study.best_trial)\n",
    "print(\"Best hyperparameters:\", study.best_params)\n",
    "\n",
    "# Visualize optimization history\n",
    "vis.plot_optimization_history(study)\n",
    "\n",
    "# Visualize parameter importance\n",
    "vis.plot_param_importances(study)\n",
    "\n",
    "# Visualize slice plot\n",
    "vis.plot_slice(study, params=[\"n_estimators\", \"max_depth\"])\n",
    "\n",
    "# Visualize contour plot\n",
    "vis.plot_contour(study, params=[\"min_samples_split\", \"min_samples_leaf\"])\n",
    "\n",
    "# Visualize parallel coordinate plot\n",
    "vis.plot_parallel_coordinate(study)\n",
    "\n"
   ]
  },
  {
   "cell_type": "code",
   "execution_count": null,
   "metadata": {},
   "outputs": [],
   "source": []
  }
 ],
 "metadata": {
  "kernelspec": {
   "display_name": "base",
   "language": "python",
   "name": "python3"
  },
  "language_info": {
   "codemirror_mode": {
    "name": "ipython",
    "version": 3
   },
   "file_extension": ".py",
   "mimetype": "text/x-python",
   "name": "python",
   "nbconvert_exporter": "python",
   "pygments_lexer": "ipython3",
   "version": "3.11.8"
  },
  "orig_nbformat": 4
 },
 "nbformat": 4,
 "nbformat_minor": 2
}
